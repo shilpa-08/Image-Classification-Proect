{
 "cells": [
  {
   "cell_type": "code",
   "execution_count": 1,
   "metadata": {},
   "outputs": [
    {
     "name": "stdout",
     "output_type": "stream",
     "text": [
      "Downloaded 252  images of saree \n"
     ]
    }
   ],
   "source": [
    "# importing necessary library\n",
    "import selenium\n",
    "from selenium import webdriver\n",
    "import pandas as pd\n",
    "import time\n",
    "import os\n",
    "from PIL import Image\n",
    "import io\n",
    "import requests\n",
    "from selenium.common.exceptions import ElementClickInterceptedException , ElementNotInteractableException\n",
    "  \n",
    "    \n",
    "\n",
    "# setting up chrome driver\n",
    "driver=webdriver.Chrome(r'Chromedriver.exe')\n",
    "time.sleep(4)\n",
    "\n",
    "\n",
    "# loading the website\n",
    "driver.get('https://www.amazon.in/')\n",
    "time.sleep(2)\n",
    "\n",
    "\n",
    "\n",
    "# searching for saree images\n",
    "input1='saree'\n",
    "\n",
    "# entering the input1 in the search_box\n",
    "search_bar=driver.find_element_by_id('twotabsearchtextbox')\n",
    "search_bar.clear()\n",
    "search_bar.send_keys(input1)\n",
    "time.sleep(2)\n",
    "                     \n",
    "# clicking the search button\n",
    "search_button=driver.find_element_by_id('nav-search-submit-button')\n",
    "search_button.click()\n",
    "\n",
    "\n",
    "# collecting the image links\n",
    "image_links=[]\n",
    "for j in range(0,5):\n",
    "    for i in  driver.find_elements_by_xpath('//div[@class=\"a-section aok-relative s-image-tall-aspect\"]/img'):\n",
    "        link=i.get_attribute('src')\n",
    "        image_links.append(link)\n",
    "    driver.find_element_by_xpath('//a[@class=\"s-pagination-item s-pagination-next s-pagination-button s-pagination-separator\"]').click()\n",
    "    time.sleep(3)\n",
    "\n",
    "# Downloading the images in the folder\n",
    "cnt=0\n",
    "for i in range(len(image_links)):\n",
    "    response= requests.get(image_links[i])\n",
    "    file = open(r\"D:\\flip_robo\\saree\\img\"+str(i)+\".jpg\", \"wb\")\n",
    "    file.write(response.content)\n",
    "    cnt=cnt+1\n",
    "print(\"Downloaded {0}  images of {1} \" .format(cnt, input1))    "
   ]
  },
  {
   "cell_type": "markdown",
   "metadata": {},
   "source": [
    "## Downloading Images of Mens Trousers"
   ]
  },
  {
   "cell_type": "code",
   "execution_count": 4,
   "metadata": {},
   "outputs": [
    {
     "name": "stdout",
     "output_type": "stream",
     "text": [
      "Downloaded 356  images of mens trousers \n"
     ]
    }
   ],
   "source": [
    "\n",
    "input2='mens trousers'\n",
    "\n",
    "\n",
    "\n",
    "# entering the user's information in the search_box\n",
    "search_bar=driver.find_element_by_id('twotabsearchtextbox')\n",
    "search_bar.clear()\n",
    "search_bar.send_keys(input2)\n",
    "time.sleep(3)                     \n",
    "\n",
    "\n",
    "\n",
    "# clicking the search button\n",
    "search_button=driver.find_element_by_id('nav-search-submit-button')\n",
    "search_button.click()\n",
    "time.sleep(3)\n",
    "\n",
    "\n",
    "\n",
    "# collecting image links from 6 pages\n",
    "image_links=[]\n",
    "for j in range(0,6):\n",
    "    time.sleep(4)\n",
    "    for i in  driver.find_elements_by_xpath('//div[@class=\"a-section aok-relative s-image-tall-aspect\"]/img'):\n",
    "        link=i.get_attribute('src')\n",
    "        image_links.append(link)\n",
    "    time.sleep(5)\n",
    "    driver.find_element_by_xpath('//a[@class=\"s-pagination-item s-pagination-next s-pagination-button s-pagination-separator\"]').click()\n",
    "    time.sleep(3)\n",
    "\n",
    "# Downloading the images in the folder\n",
    "cnt=0\n",
    "for i in range(len(image_links)):\n",
    "    response= requests.get(image_links[i])\n",
    "    file = open(r\"D:\\flip_robo\\mens trousers\\img\"+str(i)+\".jpg\", \"wb\")\n",
    "    file.write(response.content)\n",
    "    cnt=cnt+1\n",
    "print(\"Downloaded {0}  images of {1} \" .format(cnt, input2))    "
   ]
  },
  {
   "cell_type": "markdown",
   "metadata": {},
   "source": [
    "# Downloading Images of Mens Jeans"
   ]
  },
  {
   "cell_type": "code",
   "execution_count": 5,
   "metadata": {},
   "outputs": [
    {
     "name": "stdout",
     "output_type": "stream",
     "text": [
      "Downloaded 378  images of mens jeans \n"
     ]
    }
   ],
   "source": [
    "\n",
    "input3='mens jeans'\n",
    "\n",
    "\n",
    "\n",
    "# entering the user's information in the search_box\n",
    "search_bar=driver.find_element_by_id('twotabsearchtextbox')\n",
    "search_bar.clear()\n",
    "search_bar.send_keys(input3)\n",
    "time.sleep(3)                     \n",
    "\n",
    "\n",
    "\n",
    "# clicking the search button\n",
    "search_button=driver.find_element_by_id('nav-search-submit-button')\n",
    "search_button.click()\n",
    "time.sleep(3)\n",
    "\n",
    "\n",
    "\n",
    "# collecting image links from 6 pages\n",
    "image_links=[]\n",
    "for j in range(0,6):\n",
    "    time.sleep(4)\n",
    "    for i in  driver.find_elements_by_xpath('//div[@class=\"a-section aok-relative s-image-tall-aspect\"]/img'):\n",
    "        link=i.get_attribute('src')\n",
    "        image_links.append(link)\n",
    "    driver.find_element_by_xpath('//a[@class=\"s-pagination-item s-pagination-next s-pagination-button s-pagination-separator\"]').click()\n",
    "    time.sleep(3)\n",
    "\n",
    "# Downloading the images in the folder\n",
    "cnt=0\n",
    "for i in range(len(image_links)):\n",
    "    response= requests.get(image_links[i])\n",
    "    file = open(r\"D:\\flip_robo\\mens jeans\\img\"+str(i)+\".jpg\", \"wb\")\n",
    "    file.write(response.content)\n",
    "    cnt=cnt+1\n",
    "print(\"Downloaded {0}  images of {1} \" .format(cnt, input3))    "
   ]
  },
  {
   "cell_type": "code",
   "execution_count": null,
   "metadata": {},
   "outputs": [],
   "source": []
  }
 ],
 "metadata": {
  "kernelspec": {
   "display_name": "Python 3 (ipykernel)",
   "language": "python",
   "name": "python3"
  },
  "language_info": {
   "codemirror_mode": {
    "name": "ipython",
    "version": 3
   },
   "file_extension": ".py",
   "mimetype": "text/x-python",
   "name": "python",
   "nbconvert_exporter": "python",
   "pygments_lexer": "ipython3",
   "version": "3.9.6"
  }
 },
 "nbformat": 4,
 "nbformat_minor": 4
}
